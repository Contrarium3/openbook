{
 "cells": [
  {
   "cell_type": "code",
   "execution_count": 1,
   "metadata": {},
   "outputs": [],
   "source": [
    "%load_ext autoreload\n",
    "%autoreload 2\n"
   ]
  },
  {
   "cell_type": "code",
   "execution_count": null,
   "metadata": {},
   "outputs": [],
   "source": [
    "import json\n",
    "from main import get_page_links\n",
    "\n",
    "# Load the existing JSON file if it exists\n",
    "try:\n",
    "    with open('books.json', 'r') as json_file:\n",
    "        all_books_dict = json.load(json_file)\n",
    "except FileNotFoundError:\n",
    "    # If the file does not exist, create an empty dictionary\n",
    "    all_books_dict = {}\n",
    "\n",
    "\n",
    "links = get_page_links(1)\n",
    "for link in links:\n",
    "    scraper = BookScraper(link)\n",
    "    scraper.scrape()\n",
    "\n",
    "    # Convert to dictionary\n",
    "    book_data_dict = scraper.to_dict()\n",
    "    all_books_dict[scraper.book_key] = book_data_dict[scraper.book_key]\n",
    "\n",
    "# Save the dictionary to a JSON file   \n",
    "with open('books.json', 'w') as json_file:\n",
    "    json.dump(all_books_dict, json_file, indent=4, ensure_ascii=False)\n",
    "\n",
    "\n",
    "    \n"
   ]
  },
  {
   "cell_type": "code",
   "execution_count": 34,
   "metadata": {},
   "outputs": [
    {
     "name": "stdout",
     "output_type": "stream",
     "text": [
      "Dictionary: {'Έτος έκδοσης': 'Γ’ τρίμηνο 1979'}\n"
     ]
    }
   ],
   "source": [
    "import re\n",
    "\n",
    "text = \"Έτος έκδοσης: Γ’ τρίμηνο 1979\"\n",
    "\n",
    "\n",
    "match = re.search(r\"(Έτος.*?):\\s*(.*)\", text)\n",
    "\n",
    "\n",
    "if match:\n",
    "    # Extract the key (everything before the colon)\n",
    "    key = match.group(1)  # This gets \"Έτος Β' έκδοσης\"\n",
    "    value = match.group(2)  # This gets the year (2023)\n",
    "    \n",
    "    # Create dictionary with the extracted key and value\n",
    "    result_dict = {key: value}\n",
    "    print(f\"Dictionary: {result_dict}\")"
   ]
  }
 ],
 "metadata": {
  "kernelspec": {
   "display_name": "openbook-J0tr4neS-py3.11",
   "language": "python",
   "name": "python3"
  },
  "language_info": {
   "codemirror_mode": {
    "name": "ipython",
    "version": 3
   },
   "file_extension": ".py",
   "mimetype": "text/x-python",
   "name": "python",
   "nbconvert_exporter": "python",
   "pygments_lexer": "ipython3",
   "version": "3.11.11"
  }
 },
 "nbformat": 4,
 "nbformat_minor": 2
}
